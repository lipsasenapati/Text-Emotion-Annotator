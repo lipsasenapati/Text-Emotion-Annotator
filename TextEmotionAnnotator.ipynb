{
 "cells": [
  {
   "cell_type": "markdown",
   "metadata": {},
   "source": [
    "## Text Emotion Annotator"
   ]
  },
  {
   "cell_type": "code",
   "execution_count": 5,
   "metadata": {},
   "outputs": [
    {
     "name": "stdout",
     "output_type": "stream",
     "text": [
      "[i] Loaded Parameters:\n",
      " 40000 35 0.2 200 \n",
      " reddit.txt\n",
      "[i] Importing Modules...\n",
      "[+] Using Keras version 2.3.1\n",
      "[+] Finished Importing Modules\n",
      "[i] Reading from csv file...Done!\n",
      "[i] Found 34359 unique tokens.\n",
      "[+] Shape of data tensor: (47288, 30)\n",
      "[+] Shape of label tensor: (47288, 5)\n",
      "[i] Number of entries in each category:\n",
      "[+] Training:\n",
      " [ 7748. 12978. 12732.  3481.   892.]\n",
      "[+] Validation:\n",
      " [1895. 3319. 3206.  820.  217.]\n",
      "[i] Loading GloVe from: reddit.txt ...Done.\n",
      "[+] Proceeding with Embedding Matrix...[i] Completed!\n",
      "[i] Finished running setup.\n"
     ]
    }
   ],
   "source": [
    "%run Configure.ipynb\n",
    "%run ExtraFunctions.ipynb"
   ]
  },
  {
   "cell_type": "code",
   "execution_count": 6,
   "metadata": {},
   "outputs": [
    {
     "name": "stdout",
     "output_type": "stream",
     "text": [
      "Completed!\n"
     ]
    }
   ],
   "source": [
    "# second embedding matrix for non-static channel\n",
    "embedding_matrix_ns = np.random.random((len(word_index) + 1, EMBEDDING_DIM))\n",
    "for word, i in word_index.items():\n",
    "    embedding_vector = embeddings_index.get(word)\n",
    "    if embedding_vector is not None:\n",
    "        # words not found in embedding index will be all-zeros.\n",
    "        embedding_matrix_ns[i] = embedding_vector\n",
    "print(\"Completed!\")"
   ]
  },
  {
   "cell_type": "code",
   "execution_count": 7,
   "metadata": {},
   "outputs": [],
   "source": [
    "sequence_input = Input(shape=(MAX_SEQUENCE_LENGTH,), dtype='int32')\n",
    "\n",
    "# static channel\n",
    "embedding_layer_frozen = Embedding(len(word_index) + 1,\n",
    "                            EMBEDDING_DIM,\n",
    "                            weights=[embedding_matrix],\n",
    "                            input_length=MAX_SEQUENCE_LENGTH,\n",
    "                            trainable=False)\n",
    "embedded_sequences_frozen = embedding_layer_frozen(sequence_input)\n",
    "\n",
    "# non-static channel\n",
    "embedding_layer_train = Embedding(len(word_index) + 1,\n",
    "                            EMBEDDING_DIM,\n",
    "                            weights=[embedding_matrix_ns],\n",
    "                            input_length=MAX_SEQUENCE_LENGTH,\n",
    "                            trainable=True)\n",
    "embedded_sequences_train = embedding_layer_train(sequence_input)"
   ]
  },
  {
   "cell_type": "markdown",
   "metadata": {},
   "source": [
    "First Half: LSTM > CNN"
   ]
  },
  {
   "cell_type": "code",
   "execution_count": 8,
   "metadata": {},
   "outputs": [],
   "source": [
    "l_lstm1f = Bidirectional(LSTM(6,return_sequences=True,dropout=0.3, recurrent_dropout=0.0))(embedded_sequences_frozen)\n",
    "l_lstm1t = Bidirectional(LSTM(6,return_sequences=True,dropout=0.3, recurrent_dropout=0.0))(embedded_sequences_train)\n",
    "l_lstm1 = Concatenate(axis=1)([l_lstm1f, l_lstm1t])"
   ]
  },
  {
   "cell_type": "code",
   "execution_count": 9,
   "metadata": {},
   "outputs": [],
   "source": [
    "l_conv_2 = Conv1D(filters=24,kernel_size=2,activation='relu')(l_lstm1)\n",
    "l_conv_2 = Dropout(0.3)(l_conv_2)\n",
    "l_conv_3 = Conv1D(filters=24,kernel_size=3,activation='relu')(l_lstm1)\n",
    "l_conv_3 = Dropout(0.3)(l_conv_3)\n",
    "\n",
    "l_conv_5 = Conv1D(filters=24,kernel_size=5,activation='relu',)(l_lstm1)\n",
    "l_conv_5 = Dropout(0.3)(l_conv_5)\n",
    "l_conv_6 = Conv1D(filters=24,kernel_size=6,activation='relu',kernel_regularizer=regularizers.l2(0.0001))(l_lstm1)\n",
    "l_conv_6 = Dropout(0.3)(l_conv_6)\n",
    "\n",
    "l_conv_8 = Conv1D(filters=24,kernel_size=8,activation='relu',kernel_regularizer=regularizers.l2(0.0001))(l_lstm1)\n",
    "l_conv_8 = Dropout(0.3)(l_conv_8)\n",
    "\n",
    "conv_1 = [l_conv_6,l_conv_5, l_conv_8,l_conv_2,l_conv_3]\n",
    "\n",
    "l_lstm_c = Concatenate(axis=1)(conv_1)"
   ]
  },
  {
   "cell_type": "markdown",
   "metadata": {},
   "source": [
    "Second Half: CNN > LSTM"
   ]
  },
  {
   "cell_type": "code",
   "execution_count": 10,
   "metadata": {},
   "outputs": [],
   "source": [
    "l_conv_4f = Conv1D(filters=12,kernel_size=4,activation='relu',kernel_regularizer=regularizers.l2(0.0001))(embedded_sequences_frozen)\n",
    "l_conv_4f = Dropout(0.3)(l_conv_4f)\n",
    "l_conv_4t = Conv1D(filters=12,kernel_size=4,activation='relu',kernel_regularizer=regularizers.l2(0.0001))(embedded_sequences_train)\n",
    "l_conv_4t = Dropout(0.3)(l_conv_4t)\n",
    "\n",
    "l_conv_3f = Conv1D(filters=12,kernel_size=3,activation='relu',)(embedded_sequences_frozen)\n",
    "l_conv_3f = Dropout(0.3)(l_conv_3f)\n",
    "l_conv_3t = Conv1D(filters=12,kernel_size=3,activation='relu',)(embedded_sequences_train)\n",
    "l_conv_3t = Dropout(0.3)(l_conv_3t)\n",
    "\n",
    "l_conv_2f = Conv1D(filters=12,kernel_size=2,activation='relu')(embedded_sequences_frozen)\n",
    "l_conv_2f = Dropout(0.3)(l_conv_2f)\n",
    "l_conv_2t = Conv1D(filters=12,kernel_size=2,activation='relu')(embedded_sequences_train)\n",
    "l_conv_2t = Dropout(0.3)(l_conv_2t)\n",
    "\n",
    "conv_2 = [l_conv_4f, l_conv_4t,l_conv_3f, l_conv_3t, l_conv_2f, l_conv_2t]\n",
    "\n",
    "l_merge_2 = Concatenate(axis=1)(conv_2)\n",
    "l_c_lstm = Bidirectional(LSTM(12,return_sequences=True,dropout=0.3, recurrent_dropout=0.0))(l_merge_2)"
   ]
  },
  {
   "cell_type": "markdown",
   "metadata": {},
   "source": [
    "Combine both halfs of the model"
   ]
  },
  {
   "cell_type": "code",
   "execution_count": 11,
   "metadata": {},
   "outputs": [
    {
     "name": "stdout",
     "output_type": "stream",
     "text": [
      "WARNING:tensorflow:From /Users/lipsa/opt/anaconda3/lib/python3.7/site-packages/keras/backend/tensorflow_backend.py:4070: The name tf.nn.max_pool is deprecated. Please use tf.nn.max_pool2d instead.\n",
      "\n"
     ]
    }
   ],
   "source": [
    "l_merge = Concatenate(axis=1)([l_lstm_c, l_c_lstm])\n",
    "l_pool = MaxPooling1D(4)(l_merge)\n",
    "l_drop = Dropout(0.5)(l_pool)\n",
    "l_flat = Flatten()(l_drop)\n",
    "l_dense = Dense(26, activation='relu')(l_flat)\n",
    "preds = Dense(5, activation='softmax')(l_dense)"
   ]
  },
  {
   "cell_type": "code",
   "execution_count": 12,
   "metadata": {},
   "outputs": [],
   "source": [
    "model = Model(sequence_input, preds)\n",
    "adadelta = optimizers.Adadelta(lr=0.9, rho=0.95, decay=0.002)\n",
    "lr_metric = get_lr_metric(adadelta)\n",
    "model.compile(loss='categorical_crossentropy',\n",
    "              optimizer=adadelta,\n",
    "              metrics=['acc'])"
   ]
  },
  {
   "cell_type": "code",
   "execution_count": 13,
   "metadata": {},
   "outputs": [
    {
     "name": "stdout",
     "output_type": "stream",
     "text": [
      "rm: logs: No such file or directory\r\n"
     ]
    }
   ],
   "source": [
    "!rm -r logs"
   ]
  },
  {
   "cell_type": "code",
   "execution_count": 14,
   "metadata": {},
   "outputs": [],
   "source": [
    "tensorboard = callbacks.TensorBoard(log_dir='./logs', histogram_freq=0, batch_size=16, write_grads=True , write_graph=True)\n",
    "model_checkpoints = callbacks.ModelCheckpoint(\"checkpoint-{val_loss:.3f}.h5\", monitor='val_loss', verbose=0, save_best_only=True, save_weights_only=False, mode='auto', period=0)\n",
    "lr_schedule = callbacks.LearningRateScheduler(initial_boost)"
   ]
  },
  {
   "cell_type": "code",
   "execution_count": 15,
   "metadata": {},
   "outputs": [
    {
     "name": "stdout",
     "output_type": "stream",
     "text": [
      "Model: \"model_1\"\n",
      "__________________________________________________________________________________________________\n",
      "Layer (type)                    Output Shape         Param #     Connected to                     \n",
      "==================================================================================================\n",
      "input_1 (InputLayer)            (None, 30)           0                                            \n",
      "__________________________________________________________________________________________________\n",
      "embedding_1 (Embedding)         (None, 30, 200)      6872000     input_1[0][0]                    \n",
      "__________________________________________________________________________________________________\n",
      "embedding_2 (Embedding)         (None, 30, 200)      6872000     input_1[0][0]                    \n",
      "__________________________________________________________________________________________________\n",
      "bidirectional_1 (Bidirectional) (None, 30, 12)       9936        embedding_1[0][0]                \n",
      "__________________________________________________________________________________________________\n",
      "bidirectional_2 (Bidirectional) (None, 30, 12)       9936        embedding_2[0][0]                \n",
      "__________________________________________________________________________________________________\n",
      "concatenate_1 (Concatenate)     (None, 60, 12)       0           bidirectional_1[0][0]            \n",
      "                                                                 bidirectional_2[0][0]            \n",
      "__________________________________________________________________________________________________\n",
      "conv1d_6 (Conv1D)               (None, 27, 12)       9612        embedding_1[0][0]                \n",
      "__________________________________________________________________________________________________\n",
      "conv1d_7 (Conv1D)               (None, 27, 12)       9612        embedding_2[0][0]                \n",
      "__________________________________________________________________________________________________\n",
      "conv1d_8 (Conv1D)               (None, 28, 12)       7212        embedding_1[0][0]                \n",
      "__________________________________________________________________________________________________\n",
      "conv1d_9 (Conv1D)               (None, 28, 12)       7212        embedding_2[0][0]                \n",
      "__________________________________________________________________________________________________\n",
      "conv1d_10 (Conv1D)              (None, 29, 12)       4812        embedding_1[0][0]                \n",
      "__________________________________________________________________________________________________\n",
      "conv1d_11 (Conv1D)              (None, 29, 12)       4812        embedding_2[0][0]                \n",
      "__________________________________________________________________________________________________\n",
      "conv1d_4 (Conv1D)               (None, 55, 24)       1752        concatenate_1[0][0]              \n",
      "__________________________________________________________________________________________________\n",
      "conv1d_3 (Conv1D)               (None, 56, 24)       1464        concatenate_1[0][0]              \n",
      "__________________________________________________________________________________________________\n",
      "conv1d_5 (Conv1D)               (None, 53, 24)       2328        concatenate_1[0][0]              \n",
      "__________________________________________________________________________________________________\n",
      "conv1d_1 (Conv1D)               (None, 59, 24)       600         concatenate_1[0][0]              \n",
      "__________________________________________________________________________________________________\n",
      "conv1d_2 (Conv1D)               (None, 58, 24)       888         concatenate_1[0][0]              \n",
      "__________________________________________________________________________________________________\n",
      "dropout_6 (Dropout)             (None, 27, 12)       0           conv1d_6[0][0]                   \n",
      "__________________________________________________________________________________________________\n",
      "dropout_7 (Dropout)             (None, 27, 12)       0           conv1d_7[0][0]                   \n",
      "__________________________________________________________________________________________________\n",
      "dropout_8 (Dropout)             (None, 28, 12)       0           conv1d_8[0][0]                   \n",
      "__________________________________________________________________________________________________\n",
      "dropout_9 (Dropout)             (None, 28, 12)       0           conv1d_9[0][0]                   \n",
      "__________________________________________________________________________________________________\n",
      "dropout_10 (Dropout)            (None, 29, 12)       0           conv1d_10[0][0]                  \n",
      "__________________________________________________________________________________________________\n",
      "dropout_11 (Dropout)            (None, 29, 12)       0           conv1d_11[0][0]                  \n",
      "__________________________________________________________________________________________________\n",
      "dropout_4 (Dropout)             (None, 55, 24)       0           conv1d_4[0][0]                   \n",
      "__________________________________________________________________________________________________\n",
      "dropout_3 (Dropout)             (None, 56, 24)       0           conv1d_3[0][0]                   \n",
      "__________________________________________________________________________________________________\n",
      "dropout_5 (Dropout)             (None, 53, 24)       0           conv1d_5[0][0]                   \n",
      "__________________________________________________________________________________________________\n",
      "dropout_1 (Dropout)             (None, 59, 24)       0           conv1d_1[0][0]                   \n",
      "__________________________________________________________________________________________________\n",
      "dropout_2 (Dropout)             (None, 58, 24)       0           conv1d_2[0][0]                   \n",
      "__________________________________________________________________________________________________\n",
      "concatenate_3 (Concatenate)     (None, 168, 12)      0           dropout_6[0][0]                  \n",
      "                                                                 dropout_7[0][0]                  \n",
      "                                                                 dropout_8[0][0]                  \n",
      "                                                                 dropout_9[0][0]                  \n",
      "                                                                 dropout_10[0][0]                 \n",
      "                                                                 dropout_11[0][0]                 \n",
      "__________________________________________________________________________________________________\n",
      "concatenate_2 (Concatenate)     (None, 281, 24)      0           dropout_4[0][0]                  \n",
      "                                                                 dropout_3[0][0]                  \n",
      "                                                                 dropout_5[0][0]                  \n",
      "                                                                 dropout_1[0][0]                  \n",
      "                                                                 dropout_2[0][0]                  \n",
      "__________________________________________________________________________________________________\n",
      "bidirectional_3 (Bidirectional) (None, 168, 24)      2400        concatenate_3[0][0]              \n",
      "__________________________________________________________________________________________________\n",
      "concatenate_4 (Concatenate)     (None, 449, 24)      0           concatenate_2[0][0]              \n",
      "                                                                 bidirectional_3[0][0]            \n",
      "__________________________________________________________________________________________________\n",
      "max_pooling1d_1 (MaxPooling1D)  (None, 112, 24)      0           concatenate_4[0][0]              \n",
      "__________________________________________________________________________________________________\n",
      "dropout_12 (Dropout)            (None, 112, 24)      0           max_pooling1d_1[0][0]            \n",
      "__________________________________________________________________________________________________\n",
      "flatten_1 (Flatten)             (None, 2688)         0           dropout_12[0][0]                 \n",
      "__________________________________________________________________________________________________\n",
      "dense_1 (Dense)                 (None, 26)           69914       flatten_1[0][0]                  \n",
      "__________________________________________________________________________________________________\n",
      "dense_2 (Dense)                 (None, 5)            135         dense_1[0][0]                    \n",
      "==================================================================================================\n",
      "Total params: 13,886,625\n",
      "Trainable params: 7,014,625\n",
      "Non-trainable params: 6,872,000\n",
      "__________________________________________________________________________________________________\n"
     ]
    }
   ],
   "source": [
    "model.summary()\n",
    "model.save('TextEmotionAnnotation.h5')"
   ]
  },
  {
   "cell_type": "code",
   "execution_count": 35,
   "metadata": {},
   "outputs": [
    {
     "name": "stdout",
     "output_type": "stream",
     "text": [
      "Saved model to disk\n"
     ]
    }
   ],
   "source": [
    "# serialize model to JSON\n",
    "model_json = model.to_json()\n",
    "with open(\"model.json\", \"w\") as json_file:\n",
    "    json_file.write(model_json)\n",
    "# serialize weights to HDF5\n",
    "model.save_weights(\"model.h5\")\n",
    "print(\"Saved model to disk\")"
   ]
  },
  {
   "cell_type": "code",
   "execution_count": 12,
   "metadata": {},
   "outputs": [],
   "source": [
    "# model = keras.models.load_model(\"checkpoint-0.91.h5\")"
   ]
  },
  {
   "cell_type": "code",
   "execution_count": 22,
   "metadata": {},
   "outputs": [],
   "source": [
    "import pandas"
   ]
  },
  {
   "cell_type": "markdown",
   "metadata": {},
   "source": [
    "Time to train!!"
   ]
  },
  {
   "cell_type": "code",
   "execution_count": 16,
   "metadata": {},
   "outputs": [
    {
     "name": "stdout",
     "output_type": "stream",
     "text": [
      "Training Progress:\n",
      "WARNING:tensorflow:From /Users/lipsa/opt/anaconda3/lib/python3.7/site-packages/keras/backend/tensorflow_backend.py:422: The name tf.global_variables is deprecated. Please use tf.compat.v1.global_variables instead.\n",
      "\n",
      "Train on 37831 samples, validate on 9457 samples\n",
      "Epoch 1/20\n",
      "37831/37831 [==============================] - 257s 7ms/step - loss: 1.2602 - acc: 0.4387 - val_loss: 1.1038 - val_acc: 0.5370\n",
      "Epoch 2/20\n",
      "37831/37831 [==============================] - 347s 9ms/step - loss: 1.0722 - acc: 0.5531 - val_loss: 1.0074 - val_acc: 0.5822\n",
      "Epoch 3/20\n",
      "37831/37831 [==============================] - 335s 9ms/step - loss: 1.0070 - acc: 0.5830 - val_loss: 0.9684 - val_acc: 0.5975\n",
      "Epoch 4/20\n",
      "37831/37831 [==============================] - 302s 8ms/step - loss: 0.9741 - acc: 0.5999 - val_loss: 0.9454 - val_acc: 0.6091\n",
      "Epoch 5/20\n",
      "37831/37831 [==============================] - 297s 8ms/step - loss: 0.9548 - acc: 0.6078 - val_loss: 0.9354 - val_acc: 0.6144\n",
      "Epoch 6/20\n",
      "37831/37831 [==============================] - 311s 8ms/step - loss: 0.9444 - acc: 0.6127 - val_loss: 0.9252 - val_acc: 0.6201\n",
      "Epoch 7/20\n",
      "37831/37831 [==============================] - 313s 8ms/step - loss: 0.9353 - acc: 0.6189 - val_loss: 0.9223 - val_acc: 0.6214\n",
      "Epoch 8/20\n",
      "37831/37831 [==============================] - 316s 8ms/step - loss: 0.9275 - acc: 0.6218 - val_loss: 0.9171 - val_acc: 0.6178\n",
      "Epoch 9/20\n",
      "37831/37831 [==============================] - 349s 9ms/step - loss: 0.9207 - acc: 0.6242 - val_loss: 0.9119 - val_acc: 0.6210\n",
      "Epoch 10/20\n",
      "37831/37831 [==============================] - 348s 9ms/step - loss: 0.9143 - acc: 0.6269 - val_loss: 0.9120 - val_acc: 0.6260\n",
      "Epoch 11/20\n",
      "37831/37831 [==============================] - 313s 8ms/step - loss: 0.9092 - acc: 0.6287 - val_loss: 0.9083 - val_acc: 0.6247\n",
      "Epoch 12/20\n",
      "37831/37831 [==============================] - 301s 8ms/step - loss: 0.9077 - acc: 0.6299 - val_loss: 0.9052 - val_acc: 0.6248\n",
      "Epoch 13/20\n",
      "37831/37831 [==============================] - 282s 7ms/step - loss: 0.9043 - acc: 0.6307 - val_loss: 0.9082 - val_acc: 0.6249\n",
      "Epoch 14/20\n",
      "37831/37831 [==============================] - 562s 15ms/step - loss: 0.8974 - acc: 0.6344 - val_loss: 0.9049 - val_acc: 0.6281\n",
      "Epoch 15/20\n",
      "37831/37831 [==============================] - 317s 8ms/step - loss: 0.8947 - acc: 0.6360 - val_loss: 0.9026 - val_acc: 0.6229\n",
      "Epoch 16/20\n",
      "37831/37831 [==============================] - 326s 9ms/step - loss: 0.8936 - acc: 0.6371 - val_loss: 0.9043 - val_acc: 0.6224\n",
      "Epoch 17/20\n",
      "37831/37831 [==============================] - 323s 9ms/step - loss: 0.8904 - acc: 0.6360 - val_loss: 0.9007 - val_acc: 0.6277\n",
      "Epoch 18/20\n",
      "37831/37831 [==============================] - 331s 9ms/step - loss: 0.8867 - acc: 0.6374 - val_loss: 0.9004 - val_acc: 0.6277\n",
      "Epoch 19/20\n",
      "37831/37831 [==============================] - 325s 9ms/step - loss: 0.8870 - acc: 0.6400 - val_loss: 0.9000 - val_acc: 0.6285\n",
      "Epoch 20/20\n",
      "37831/37831 [==============================] - 330s 9ms/step - loss: 0.8830 - acc: 0.6422 - val_loss: 0.9013 - val_acc: 0.6281\n"
     ]
    },
    {
     "ename": "NameError",
     "evalue": "name 'pandas' is not defined",
     "output_type": "error",
     "traceback": [
      "\u001b[0;31m---------------------------------------------------------------------------\u001b[0m",
      "\u001b[0;31mNameError\u001b[0m                                 Traceback (most recent call last)",
      "\u001b[0;32m<ipython-input-16-74045ed9b6cf>\u001b[0m in \u001b[0;36m<module>\u001b[0;34m\u001b[0m\n\u001b[1;32m      1\u001b[0m \u001b[0mprint\u001b[0m\u001b[0;34m(\u001b[0m\u001b[0;34m\"Training Progress:\"\u001b[0m\u001b[0;34m)\u001b[0m\u001b[0;34m\u001b[0m\u001b[0;34m\u001b[0m\u001b[0m\n\u001b[1;32m      2\u001b[0m \u001b[0mmodel_log\u001b[0m \u001b[0;34m=\u001b[0m \u001b[0mmodel\u001b[0m\u001b[0;34m.\u001b[0m\u001b[0mfit\u001b[0m\u001b[0;34m(\u001b[0m\u001b[0mx_train\u001b[0m\u001b[0;34m,\u001b[0m \u001b[0my_train\u001b[0m\u001b[0;34m,\u001b[0m \u001b[0mvalidation_data\u001b[0m\u001b[0;34m=\u001b[0m\u001b[0;34m(\u001b[0m\u001b[0mx_val\u001b[0m\u001b[0;34m,\u001b[0m \u001b[0my_val\u001b[0m\u001b[0;34m)\u001b[0m\u001b[0;34m,\u001b[0m \u001b[0mepochs\u001b[0m\u001b[0;34m=\u001b[0m\u001b[0;36m20\u001b[0m\u001b[0;34m,\u001b[0m \u001b[0mbatch_size\u001b[0m\u001b[0;34m=\u001b[0m\u001b[0;36m128\u001b[0m\u001b[0;34m)\u001b[0m\u001b[0;34m\u001b[0m\u001b[0;34m\u001b[0m\u001b[0m\n\u001b[0;32m----> 3\u001b[0;31m \u001b[0mpandas\u001b[0m\u001b[0;34m.\u001b[0m\u001b[0mDataFrame\u001b[0m\u001b[0;34m(\u001b[0m\u001b[0mmodel_log\u001b[0m\u001b[0;34m.\u001b[0m\u001b[0mhistory\u001b[0m\u001b[0;34m)\u001b[0m\u001b[0;34m.\u001b[0m\u001b[0mto_csv\u001b[0m\u001b[0;34m(\u001b[0m\u001b[0;34m\"history-emotion.csv\"\u001b[0m\u001b[0;34m)\u001b[0m\u001b[0;34m\u001b[0m\u001b[0;34m\u001b[0m\u001b[0m\n\u001b[0m",
      "\u001b[0;31mNameError\u001b[0m: name 'pandas' is not defined"
     ]
    }
   ],
   "source": [
    "print(\"Training Progress:\")\n",
    "model_log = model.fit(x_train, y_train, validation_data=(x_val, y_val), epochs=5, batch_size=128)\n",
    "# pandas.DataFrame(model_log.history).to_csv(\"history-emotion.csv\")"
   ]
  },
  {
   "cell_type": "code",
   "execution_count": 19,
   "metadata": {},
   "outputs": [],
   "source": [
    "import pandas"
   ]
  },
  {
   "cell_type": "code",
   "execution_count": 23,
   "metadata": {},
   "outputs": [],
   "source": [
    "pandas.DataFrame(model_log.history).to_csv(\"history-emotion.csv\")"
   ]
  },
  {
   "cell_type": "markdown",
   "metadata": {},
   "source": [
    "## Model Testing and Inference"
   ]
  },
  {
   "cell_type": "code",
   "execution_count": 54,
   "metadata": {},
   "outputs": [],
   "source": [
    "from keras.models import load_model\n",
    "from sklearn.metrics import classification_report, confusion_matrix\n",
    "import matplotlib.pyplot as plt\n",
    "import numpy as np\n",
    "%config InlineBackend.figure_format = 'retina'\n",
    "import itertools, pickle\n",
    "\n",
    "with open('tokenizer.pickle', 'rb') as handle:\n",
    "    tokenizer = pickle.load(handle)\n",
    "\n",
    "classes = [\"neutral\", \"joy\", \"sadness\", \"disgust\",\"anger\"]"
   ]
  },
  {
   "cell_type": "code",
   "execution_count": 55,
   "metadata": {},
   "outputs": [
    {
     "name": "stdout",
     "output_type": "stream",
     "text": [
      "Configure.ipynb            history-emotion.csv\r\n",
      "ExtraFunctions.ipynb       model.h5\r\n",
      "TextEmotionAnnotation.h5   model.json\r\n",
      "TextEmotionAnnotator.ipynb reddit.txt\r\n",
      "best_weights.h5            tokenizer.pickle\r\n",
      "data.csv                   train.json\r\n"
     ]
    }
   ],
   "source": [
    "! ls"
   ]
  },
  {
   "cell_type": "code",
   "execution_count": 56,
   "metadata": {},
   "outputs": [
    {
     "name": "stdout",
     "output_type": "stream",
     "text": [
      "Loaded model from disk\n"
     ]
    }
   ],
   "source": [
    "from keras.models import model_from_json\n",
    "# load json and create model\n",
    "json_file = open('model.json', 'r')\n",
    "loaded_model_json = json_file.read()\n",
    "json_file.close()\n",
    "loaded_model = model_from_json(loaded_model_json)\n",
    "# load weights into new model\n",
    "loaded_model.load_weights(\"model.h5\")\n",
    "print(\"Loaded model from disk\")"
   ]
  },
  {
   "cell_type": "code",
   "execution_count": 57,
   "metadata": {},
   "outputs": [],
   "source": [
    "# model_test = load_model('checkpoint-0.866.h5')\n",
    "# from keras.models import load_model\n",
    "# model_test = load_model('best_weights.h5')\n",
    "Y_test = np.argmax(y_val, axis=1) # Convert one-hot to index\n",
    "y_pred = loaded_model.predict(x_val)\n",
    "y_pred_class = np.argmax(y_pred,axis=1)\n",
    "cnf_matrix = confusion_matrix(Y_test, y_pred_class)"
   ]
  },
  {
   "cell_type": "code",
   "execution_count": 58,
   "metadata": {},
   "outputs": [
    {
     "name": "stdout",
     "output_type": "stream",
     "text": [
      "              precision    recall  f1-score   support\n",
      "\n",
      "     neutral       0.46      0.41      0.43      1895\n",
      "         joy       0.68      0.66      0.67      3319\n",
      "     sadness       0.61      0.71      0.66      3206\n",
      "     disgust       0.88      0.65      0.75       820\n",
      "       anger       0.96      0.71      0.82       217\n",
      "\n",
      "    accuracy                           0.63      9457\n",
      "   macro avg       0.72      0.63      0.66      9457\n",
      "weighted avg       0.63      0.63      0.63      9457\n",
      "\n"
     ]
    }
   ],
   "source": [
    "print(classification_report(Y_test, y_pred_class, target_names=classes))"
   ]
  },
  {
   "cell_type": "code",
   "execution_count": 63,
   "metadata": {},
   "outputs": [
    {
     "data": {
      "image/png": "[encoded data removed]",
      "text/plain": [
       "<Figure size 720x360 with 2 Axes>"
      ]
     },
     "metadata": {
      "image/png": {
       "height": 365,
       "width": 426
      },
      "needs_background": "light"
     },
     "output_type": "display_data"
    }
   ],
   "source": [
    "def plot_confusion_matrix(cm, labels,\n",
    "                          normalize=True,\n",
    "                          title='Confusion Matrix (Validation Set)',\n",
    "                          cmap=plt.cm.Greens):\n",
    "    \"\"\"\n",
    "    This function prints and plots the confusion matrix.\n",
    "    Normalization can be applied by setting `normalize=True`.\n",
    "    \"\"\"\n",
    "    if normalize:\n",
    "        cm = cm.astype('float') / cm.sum(axis=1)[:, np.newaxis]\n",
    "        #print(\"Normalized confusion matrix\")\n",
    "    else:\n",
    "        #print('Confusion matrix, without normalization')\n",
    "        pass\n",
    "\n",
    "    #print(cm)\n",
    "\n",
    "    plt.imshow(cm, interpolation='nearest', cmap=cmap)\n",
    "    plt.title(title)\n",
    "    plt.colorbar()\n",
    "    tick_marks = np.arange(len(labels))\n",
    "    plt.xticks(tick_marks, labels, rotation=45)\n",
    "    plt.yticks(tick_marks, labels)\n",
    "\n",
    "    fmt = '.2f' if normalize else 'd'\n",
    "    thresh = cm.max() / 2.\n",
    "    for i, j in itertools.product(range(cm.shape[0]), range(cm.shape[1])):\n",
    "        plt.text(j, i, format(cm[i, j], fmt),\n",
    "                 horizontalalignment=\"center\",\n",
    "                 color=\"red\" if cm[i, j] > thresh else \"black\")\n",
    "\n",
    "    plt.tight_layout()\n",
    "    plt.ylabel('True label')\n",
    "    plt.xlabel('Predicted label')\n",
    "\n",
    "plt.figure(figsize=(10,5))\n",
    "plot_confusion_matrix(cnf_matrix, labels=classes)\n",
    "\n",
    "# precision = true_pos / (true_pos + false_pos)\n",
    "# recall = true_pos / (true_pos + false_neg)"
   ]
  },
  {
   "cell_type": "code",
   "execution_count": 60,
   "metadata": {},
   "outputs": [],
   "source": [
    "text = [\"It feels too close for comfort for me, but aside from yall, I'm alone in my concerns.  \\n\\nMy friends were on the previous Grand Princess cruise.  The county dept of health &amp; Princess cruises contacted them by phone but since it was more than 14 days ago, they're not candidates for further follow up.    My Ma flew into Ontario airport the same day the Wuhan/March AFB evacuees were being sent home after their 14 days, the same day there was unclear news of one of them testing positive &amp; being released from a hospital in San Diego &amp; at a point where there was word from China that it was airborne.   \\n\\nIt is my opinion we'll be hearing Spanish Flu (even) more over the coming weeks-I don't think there's anything else this can be compared to for bad luck, virulence &amp; bad decisions.  It's undecided whether the Spanish Flu came from America or China.  It's unclear how it got it's name, but I think it might be because Spain was one of the only countries that wasn't censoring the news &amp; instead was reporting it in gory detail.  The King of Spain had it &amp; so did Woodrow Wilson.   \\u201cThat men do not learn very much from the lessons of history is  the most important of all the lessons that history has to teach.\\u201d     -Huxley\\n\\n[https://www.nzherald.co.nz/world/news/article.cfm?c\\\\_id=2&amp;objectid=12307276](https://www.nzherald.co.nz/world/news/article.cfm?c_id=2&amp;objectid=12307276)\\n\\n[https://en.wikipedia.org/wiki/Spanish\\\\_flu](https://en.wikipedia.org/wiki/Spanish_flu)\\n\\n[https://www.history.com/news/why-was-it-called-the-spanish-flu](https://www.history.com/news/why-was-it-called-the-spanish-flu)\\n\\n[https://www.goodreads.com/quotes/16293-that-men-do-not-learn-very-much-from-the-lessons](https://www.goodreads.com/quotes/16293-that-men-do-not-learn-very-much-from-the-lessons)\",\n",
    "        \"No problem. The other trick CCP usually pulls is to take articles/internet posts &amp; replies from western media/websites (that are blocked by GFW) and show PART of them on Chinese media/internet in a way that completely misrepresent and/or twist its original meaning so that Chinese people (that are locked inside GFW) get mad at the west and think USA is not just bad but want to dominate/overpower China (CCP intentionally blend themselves into the concept \\\"China\\\") and that everything is \\\"the conspiracy of Evil American Imperialists\\\" (literal translation from Chinese).\\n\\nOn top of that, CCP moderates/deletes all its critics on Internet/Wechat/Weibo, etc. BUT intentionally leave the comments of rumors about USA on Chinese internet. A typical example would be that \\\"corona virus was a biochemical weapon developed by USA to target China\\\", and that \\\"USA has never sent/offered any help to China since the breakout. They want China dead\\\". This has been on Chinese internet for months now and somehow the comments are never moderated by the mighty CCP censors. But if someone on Chinese internet post something about the virus being developed and leaked from a Wuhan local military virus research center, the comments wouldn't even be allowed to be posted, and the person that posted it would be risking getting arrested or even DISAPPEARED. (meaning CCP arrests and kills him/her secretly and nobody would ever find his body, or claim that the person had a \\\"sudden hear attack\\\" at the precinct and died - basically tortured by CCP to death - in which case CCP would quickly burn the body and would never allow his/her family to see the dead body let alone have it back for autopsy)\",\n",
    "        \"The Corona d'Arag\\u00f3 was the result of a dinastical union between Ramon Berenguer IV, comte de Barcelona, and Peronella d'Arag\\u00f3, daughter of the former king of Arag\\u00f3. While they both were alive, the territories were ruled separately, and once their son Alfons inherited the totality of the kingdom the old Comtat maintained its institutions (La Generalitat, for instance). Also, the kings of the Corona d'Arag\\u00f3 were called \\\"comtes-reis\\\", another symbol of the equality of both territories inside the same kingdom. \\n\\nTL;DR: The Corona d'Arag\\u00f3 was the dinastical union of two kingdoms. These two kingdoms (Comtat of Barcelona and Arag\\u00f3) had the same importance in the new state. Barcelona was part of Arag\\u00f3 the same way Arag\\u00f3 was part of Barcelona.\",\n",
    "        \"Okay. Not to be a contrarian or something, but during all this corona virus shit there are a lot of comments that go like this generally: \\\"it's going to get worse\\\" \\\"it's going to be a biblical disaster\\\" \\\"don't you know that x and y percentages died from it so it's terrible and we are all going to die\\\" etc.\\n\\nI won't understate the seriousness of a new unknown virus but the amount of panic and cynical doom posting that I see around me is making me more anxious than the virus itself.\\n\\nPeople really feel bend on trying to make comparisons to china and the outbreak in the western world. It seems unlogical to me.\\n\\n1- china has a mob mentality so people grouped up like crazy infecting eachother ( remember those lines at the hospitals? )\\n\\n2- the chinese generally smoke like CRAZY, weakening their lungs and making them very furnerable.\\n\\n3- they have to deal with multitudes of terrible air and water polution unfathomable to us westeners, also weakening them.\\n\\n4- chinese generally have a not so good understanding of personal hygiene, potentially making a single person a super spreader.\\n\\n5- there are SO MUCH MORE people, incl more old people then any other country in the world. Ofcourse every death is a tragedy but old people generally get the short end of the stick. This affects statistics that don't include age.\\n\\nI am saying that an outbreak in china vs one in the west feels like a whole different ball game.\\n\\nWe have learned from all this haven't we? I perhaps seem to be overly optimistic about our chances. Am I wrong or naieve?\",\n",
    "       \"Extract: \\n\\nJust the other day, I went out and observed people mingling en masse.\\n\\nI watched a crowd of tourists in the forecourt of what I still call Mann\\u2019s Chinese place their hands, as they\\u2019ve always done, into the much-touched cement handprints of stars.\\n\\nI watched shoppers crowd around tables and fondle the shiny iPhones and MacBooks on display at the Apple Store at The Grove. I watched families squeeze in next to other families to admire the outdoor mall\\u2019s dancing fountain.\\n\\nThe mall wasn\\u2019t exactly hopping, but I saw only the odd mask. I didn\\u2019t notice anyone make an obvious effort to stand six feet away from anyone else. If social distancing was happening, it was too subtle for me.\\n\\nThe sun was out. Rain had yet to fall. Life in the time of coronavirus, I thought, didn\\u2019t seem to have changed our habits so much.\\n\\nStill, as I stood just off to the side taking these scenes in, I felt an intense wave of loss and nostalgia. It was only later when I was at home on my own that I fully began to understood why.\\n\\nAt first I thought I was mourning the enforced separation from each other that we were just about to start experiencing. Then I realized I was mourning a togetherness already on the way out \\u2014 from a long ago age before Amazon, before Netflix, before Postmates. Before giant flat-screen home TVs with surround sound, before virtual reality.\\n\\nWe are in the midst of a pandemic. People suddenly are falling sick. They are dying. We must practice social distancing now \\u2014 for our own health, to protect the health of others and to fight to keep this coronavirus in check.\\n\\nBut haven\\u2019t we been distancing ourselves from each other more and more for years? Isn\\u2019t being apart becoming more and more our norm?\\n\\nI\\u2019d started out thinking about how, in California, we\\u2019re used to crises making us come together, not come apart. In the rubble, in the ash, we\\u2019re used to crossing our own property lines and comfort zones and reaching out to anyone at all who needs help.\\n\\nBut then I realized that part of what\\u2019s striking in the modern era of our earthquakes and fires and mudslides is the many times when neighbors who were strangers meet each other in extremis, when in calamity communities suddenly spring to life and coalesce.\\n\\nBecause in the modern age, in ordinary circumstances, a lot of us increasingly keep to ourselves. After all, it\\u2019s become so very easy and convenient.\\n\\nWhy go to a restaurant when you can have exactly what you would have ordered there delivered to you in the comfort of your home? Why go to a theater when you can watch a movie that\\u2019s practically just come out on TV?\\n\\nWhy go see a friend when you can Facetime and text? Why go to the store and see people \\u2014 except for pandemic panic shopping \\u2014 when you have Amazon and Instacart? Why work in an office with others when you can do your job on your own in your pajamas?\\n\\nThe day after I went out in search of crowds, the rain arrived here in Los Angeles \\u2014 literally and figuratively.\\n\\nSouthern California grew gray and damp. Coronavirus closed in.\\n\\nEvents that draw crowds started being canceled right and left. So did plenty of far cozier, more intimate gatherings. Concerts, conferences, festivals, tournaments, classes, church services, campaign rallies \\u2014 all nixed, postponed or preparing to become online only.\\n\\nEverything changed in a flash, dictated by necessity. Social distance was no longer theoretical, isolation no longer optional.\\n\\nI\\u2019ve written before about my worries about a modern-day world in which more and more people are isolated and lonely, working at jobs without offices, going whole days without real human contact. Now we\\u2019re all in that boat.\\n\\nI\\u2019m hoping enforced separation will do the trick and slow down the community spread of coronavirus. I\\u2019m willing to do anything to help make that happen. I think we all have to be all in to do that.\\n\\nStill, many things I often chose to do immediately felt different and constricting when they were no longer by choice.\\n\\nAll our modern conveniences \\u2014 our screens and our apps, our online shopping, our delivery services \\u2014 can provide us with so much coziness and ease when we\\u2019re feeling overstimulated and worn out and need to retreat from the big world outside.\\n\\nBut it\\u2019s one thing to work from home because you feel like it and you can. It\\u2019s another to be told that you cannot go spend the day with your co-workers in the office. It\\u2019s one thing to stream a movie by choice or to choose to watch a basketball game on TV. It\\u2019s another to be told that you should not go to a movie theater, that you can\\u2019t go to a basketball game, that concerts have been called off.\\n\\nIt\\u2019s one thing to order in food because you want to put on your comfy clothes and curl up on the couch. It\\u2019s another thing to get a note from one of the delivery apps saying you can now request not to even see your delivery person but to have your order left at the front door.\\n\\nIt\\u2019s one thing to know you can choose the big world anytime, when you\\u2019re tired of the couch and of texting.\\n\\nRight now, of course, just a few days in, I want nothing more than to go out to eat with friends, to hug a neighbor, to hold a hand.\\n\\nI\\u2019m hoping we get to the other side of this without large-scale tragedy. There\\u2019s no way of knowing yet if we will.\\n\\nBut if we do, I\\u2019m hoping that the experience of social distancing gives us pause and makes us realize how much we have missed company, not just the company of those we know and love but of strangers.\\n\\nWe live in a world that can be scary, a world where people fire into crowds, where stock markets crash, where the gap between the haves and the have-nots keeps growing, along with the anger and division. But I\\u2019m hoping that if we get through this, we don\\u2019t let fear take over, that we come together again in full appreciation of how good that can feel.\\n\\nJust the other day, I watched people mingling en masse. I hope I\\u2019ll get to do so again before long.\",\n",
    "        \"If the disease is infectious enough even with a vaccine outbreaks can happen, just like the flu happens even though we make vaccines for it all the time.\\n\\nBasically it gets in enough people around the world and mutates around the world and you never get it eradicated. Though it's safe to say the world could try harder if the disease was higher risk. I think the biggest concern here is just that coronavirus have a lot of inherent traits that you really don't want in a human virus that also carries significant illness or lethality.\\n\\nIt really does all work in the sense that one person can infect the entire planet and it's rarely the person's fault so much as you're looking at an impressive virus. \\n\\nSome of the other scary features of corona viruses in general MIGHT be: short-lived antibodies, less chance of cross strain resistance, capacity to jump between humans and animals, high mutation rate.  I think the whole class of RNA virus is just scary because it is super efficient and can mutate and recombine so it's just like really adaptable. Looking at modern medicine I guess we are having the most trouble with the RNA virus still. \\n\\nThat's really why it was worth trying to mass quarantine and eradicate the virus as much as possible though I don't think we're going to hit that target. However we might contain and slow it down long enough to develop a solid variety of treatments against it and eventually a vaccine. It also reminds us mutate and go away or something like that. It COULD happen and we're talking about possibilities so it's always worth to mention it. \\n\\nThe biggest threat, by far, is to the developing world, especially countries that have limited technology and industry. There's also a long-term cumulative threat like influenza presents where we can't get rid of it and even though we have a vaccine there's still tens of thousands or hundreds of thousands of people that die per year. Nobody wants a common cold that also acts like influenza on steroids.\",\n",
    "        \"Fuck your \\\"appeal to authority\\\" bullshit.  If you have ANY integrity whatsoever, look at the actual data and then try to tell me that masks don't reduce the risk of infection:\\n\\n[National Institutes of Health](http://archive.is/5Vm12) - Home-made cloth masks reduce permeation even of tiny 0.02 \\u00b5m\\u20131 \\u00b5m particles by 50%, with surgical masks reducing permeation by 75% even during real-world activities.  Considering that droplet transmission viruses (like the one causing COVID19) often require larger droplets than that, these masks could be even more effective against this particular virus.\\n\\nQuote:\\n&gt; Any type of general mask use is likely to decrease viral exposure and infection risk on a population level, in spite of imperfect fit and imperfect adherence, personal respirators providing most protection.\\n\\n---\\n\\n[International Journal of Infectious Diseases](http://archive.is/1Mwcb) - This one shows surgical masks preventing the wearer from being infected when living with someone who has the flu.\\n\\nQuote:\\n&gt; We found compliance to be low, but compliance is affected by perception of risk. In a pandemic, we would expect compliance to improve. In compliant users, masks were highly efficacious.\\n\\n---\\n\\n[Journal of the American Medical Association](http://archive.is/cvUQ7) - This study of 446 nurses in Ontario hospitals showed that n95 masks and surgical masks offered similar protection from viral infection for the wearer.\\n\\nQuote:\\n&gt; Our data show that the incidence of laboratory-confirmed influenza was similar in nurses wearing the surgical mask and those wearing the N95 respirator. Surgical masks had an estimated efficacy within 1% of N95 respirators.\\n\\n---\\n\\n[National Institutes of Health](http://archive.is/GMOaG) - Surgical masks offer almost as effective filtration efficiency against simulated particles as n95 masks.\\n\\nQuote:\\n&gt; The in-vivo filtration tests illustrated that N95 respirators filtered out 97% of potassium chloride (KCl) solution, while surgical masks filtered out 95% of KCl solution.\\n\\n---\\n\\nAnd for the coup de gr\\u00e2ce, here's one published in [Emerging Infectious Diseases](http://archive.is/spCh6) (the journal of the CDC) with a juicy quote:\\n\\n&gt; We present the results of a prospective clinical trial of face mask use conducted in response to an urgent need to clarify the clinical benefit of using masks. The key findings are that &lt;50% of participants were adherent with mask use and that the intention-to-treat analysis showed no difference between arms. Although our study suggests that community use of face masks is unlikely to be an effective control policy for seasonal respiratory diseases, **adherent mask users had a significant reduction in the risk for clinical infection**. Another recent study that examined the use of surgical masks and handwashing for the prevention of influenza transmission also found no significant difference between the intervention arms (12).\\n\\n&gt; Our study found that only 21% of household contacts in the face mask arms reported wearing the mask often or always during the follow-up period. Adherence with treatments and preventive measures is well known to vary depending on perception of risk (27) and would be expected to increase during an influenza pandemic. During the height of the SARS epidemic of April and May 2003 in Hong Kong, adherence to infection control measures was high; 76% of the population wore a face mask, 65% washed their hands after relevant contact, and 78% covered their mouths when sneezing or coughing (28). In addition, adherence may vary depending on cultural context; Asian cultures are more accepting of mask use (29). Therefore, although we found that distributing masks during seasonal winter influenza outbreaks is an ineffective control measure characterized by low adherence, **results indicate the potential efficacy of masks in contexts where a larger adherence may be expected, such as during a severe influenza pandemic or other emerging infection.**\",\n",
    "        ]"
   ]
  },
  {
   "cell_type": "code",
   "execution_count": 61,
   "metadata": {},
   "outputs": [
    {
     "name": "stdout",
     "output_type": "stream",
     "text": [
      "It feels too close for comfort for me, but aside from yall, I'm alone in my concerns.  \n",
      "\n",
      "My friends were on the previous Grand Princess cruise.  The county dept of health &amp; Princess cruises contacted them by phone but since it was more than 14 days ago, they're not candidates for further follow up.    My Ma flew into Ontario airport the same day the Wuhan/March AFB evacuees were being sent home after their 14 days, the same day there was unclear news of one of them testing positive &amp; being released from a hospital in San Diego &amp; at a point where there was word from China that it was airborne.   \n",
      "\n",
      "It is my opinion we'll be hearing Spanish Flu (even) more over the coming weeks-I don't think there's anything else this can be compared to for bad luck, virulence &amp; bad decisions.  It's undecided whether the Spanish Flu came from America or China.  It's unclear how it got it's name, but I think it might be because Spain was one of the only countries that wasn't censoring the news &amp; instead was reporting it in gory detail.  The King of Spain had it &amp; so did Woodrow Wilson.   “That men do not learn very much from the lessons of history is  the most important of all the lessons that history has to teach.”     -Huxley\n",
      "\n",
      "[https://www.nzherald.co.nz/world/news/article.cfm?c\\_id=2&amp;objectid=12307276](https://www.nzherald.co.nz/world/news/article.cfm?c_id=2&amp;objectid=12307276)\n",
      "\n",
      "[https://en.wikipedia.org/wiki/Spanish\\_flu](https://en.wikipedia.org/wiki/Spanish_flu)\n",
      "\n",
      "[https://www.history.com/news/why-was-it-called-the-spanish-flu](https://www.history.com/news/why-was-it-called-the-spanish-flu)\n",
      "\n",
      "[https://www.goodreads.com/quotes/16293-that-men-do-not-learn-very-much-from-the-lessons](https://www.goodreads.com/quotes/16293-that-men-do-not-learn-very-much-from-the-lessons) \n",
      "Prediction: neutral \n",
      "\n",
      "No problem. The other trick CCP usually pulls is to take articles/internet posts &amp; replies from western media/websites (that are blocked by GFW) and show PART of them on Chinese media/internet in a way that completely misrepresent and/or twist its original meaning so that Chinese people (that are locked inside GFW) get mad at the west and think USA is not just bad but want to dominate/overpower China (CCP intentionally blend themselves into the concept \"China\") and that everything is \"the conspiracy of Evil American Imperialists\" (literal translation from Chinese).\n",
      "\n",
      "On top of that, CCP moderates/deletes all its critics on Internet/Wechat/Weibo, etc. BUT intentionally leave the comments of rumors about USA on Chinese internet. A typical example would be that \"corona virus was a biochemical weapon developed by USA to target China\", and that \"USA has never sent/offered any help to China since the breakout. They want China dead\". This has been on Chinese internet for months now and somehow the comments are never moderated by the mighty CCP censors. But if someone on Chinese internet post something about the virus being developed and leaked from a Wuhan local military virus research center, the comments wouldn't even be allowed to be posted, and the person that posted it would be risking getting arrested or even DISAPPEARED. (meaning CCP arrests and kills him/her secretly and nobody would ever find his body, or claim that the person had a \"sudden hear attack\" at the precinct and died - basically tortured by CCP to death - in which case CCP would quickly burn the body and would never allow his/her family to see the dead body let alone have it back for autopsy) \n",
      "Prediction: sadness \n",
      "\n",
      "The Corona d'Aragó was the result of a dinastical union between Ramon Berenguer IV, comte de Barcelona, and Peronella d'Aragó, daughter of the former king of Aragó. While they both were alive, the territories were ruled separately, and once their son Alfons inherited the totality of the kingdom the old Comtat maintained its institutions (La Generalitat, for instance). Also, the kings of the Corona d'Aragó were called \"comtes-reis\", another symbol of the equality of both territories inside the same kingdom. \n",
      "\n",
      "TL;DR: The Corona d'Aragó was the dinastical union of two kingdoms. These two kingdoms (Comtat of Barcelona and Aragó) had the same importance in the new state. Barcelona was part of Aragó the same way Aragó was part of Barcelona. \n",
      "Prediction: joy \n",
      "\n",
      "Okay. Not to be a contrarian or something, but during all this corona virus shit there are a lot of comments that go like this generally: \"it's going to get worse\" \"it's going to be a biblical disaster\" \"don't you know that x and y percentages died from it so it's terrible and we are all going to die\" etc.\n",
      "\n",
      "I won't understate the seriousness of a new unknown virus but the amount of panic and cynical doom posting that I see around me is making me more anxious than the virus itself.\n",
      "\n",
      "People really feel bend on trying to make comparisons to china and the outbreak in the western world. It seems unlogical to me.\n",
      "\n",
      "1- china has a mob mentality so people grouped up like crazy infecting eachother ( remember those lines at the hospitals? )\n",
      "\n",
      "2- the chinese generally smoke like CRAZY, weakening their lungs and making them very furnerable.\n",
      "\n",
      "3- they have to deal with multitudes of terrible air and water polution unfathomable to us westeners, also weakening them.\n",
      "\n",
      "4- chinese generally have a not so good understanding of personal hygiene, potentially making a single person a super spreader.\n",
      "\n",
      "5- there are SO MUCH MORE people, incl more old people then any other country in the world. Ofcourse every death is a tragedy but old people generally get the short end of the stick. This affects statistics that don't include age.\n",
      "\n",
      "I am saying that an outbreak in china vs one in the west feels like a whole different ball game.\n",
      "\n",
      "We have learned from all this haven't we? I perhaps seem to be overly optimistic about our chances. Am I wrong or naieve? \n",
      "Prediction: sadness \n",
      "\n",
      "Extract: \n",
      "\n",
      "Just the other day, I went out and observed people mingling en masse.\n",
      "\n",
      "I watched a crowd of tourists in the forecourt of what I still call Mann’s Chinese place their hands, as they’ve always done, into the much-touched cement handprints of stars.\n",
      "\n",
      "I watched shoppers crowd around tables and fondle the shiny iPhones and MacBooks on display at the Apple Store at The Grove. I watched families squeeze in next to other families to admire the outdoor mall’s dancing fountain.\n",
      "\n",
      "The mall wasn’t exactly hopping, but I saw only the odd mask. I didn’t notice anyone make an obvious effort to stand six feet away from anyone else. If social distancing was happening, it was too subtle for me.\n",
      "\n",
      "The sun was out. Rain had yet to fall. Life in the time of coronavirus, I thought, didn’t seem to have changed our habits so much.\n",
      "\n",
      "Still, as I stood just off to the side taking these scenes in, I felt an intense wave of loss and nostalgia. It was only later when I was at home on my own that I fully began to understood why.\n",
      "\n",
      "At first I thought I was mourning the enforced separation from each other that we were just about to start experiencing. Then I realized I was mourning a togetherness already on the way out — from a long ago age before Amazon, before Netflix, before Postmates. Before giant flat-screen home TVs with surround sound, before virtual reality.\n",
      "\n",
      "We are in the midst of a pandemic. People suddenly are falling sick. They are dying. We must practice social distancing now — for our own health, to protect the health of others and to fight to keep this coronavirus in check.\n",
      "\n",
      "But haven’t we been distancing ourselves from each other more and more for years? Isn’t being apart becoming more and more our norm?\n",
      "\n",
      "I’d started out thinking about how, in California, we’re used to crises making us come together, not come apart. In the rubble, in the ash, we’re used to crossing our own property lines and comfort zones and reaching out to anyone at all who needs help.\n",
      "\n",
      "But then I realized that part of what’s striking in the modern era of our earthquakes and fires and mudslides is the many times when neighbors who were strangers meet each other in extremis, when in calamity communities suddenly spring to life and coalesce.\n",
      "\n",
      "Because in the modern age, in ordinary circumstances, a lot of us increasingly keep to ourselves. After all, it’s become so very easy and convenient.\n",
      "\n",
      "Why go to a restaurant when you can have exactly what you would have ordered there delivered to you in the comfort of your home? Why go to a theater when you can watch a movie that’s practically just come out on TV?\n",
      "\n",
      "Why go see a friend when you can Facetime and text? Why go to the store and see people — except for pandemic panic shopping — when you have Amazon and Instacart? Why work in an office with others when you can do your job on your own in your pajamas?\n",
      "\n",
      "The day after I went out in search of crowds, the rain arrived here in Los Angeles — literally and figuratively.\n",
      "\n",
      "Southern California grew gray and damp. Coronavirus closed in.\n",
      "\n",
      "Events that draw crowds started being canceled right and left. So did plenty of far cozier, more intimate gatherings. Concerts, conferences, festivals, tournaments, classes, church services, campaign rallies — all nixed, postponed or preparing to become online only.\n",
      "\n",
      "Everything changed in a flash, dictated by necessity. Social distance was no longer theoretical, isolation no longer optional.\n",
      "\n",
      "I’ve written before about my worries about a modern-day world in which more and more people are isolated and lonely, working at jobs without offices, going whole days without real human contact. Now we’re all in that boat.\n",
      "\n",
      "I’m hoping enforced separation will do the trick and slow down the community spread of coronavirus. I’m willing to do anything to help make that happen. I think we all have to be all in to do that.\n",
      "\n",
      "Still, many things I often chose to do immediately felt different and constricting when they were no longer by choice.\n",
      "\n",
      "All our modern conveniences — our screens and our apps, our online shopping, our delivery services — can provide us with so much coziness and ease when we’re feeling overstimulated and worn out and need to retreat from the big world outside.\n",
      "\n",
      "But it’s one thing to work from home because you feel like it and you can. It’s another to be told that you cannot go spend the day with your co-workers in the office. It’s one thing to stream a movie by choice or to choose to watch a basketball game on TV. It’s another to be told that you should not go to a movie theater, that you can’t go to a basketball game, that concerts have been called off.\n",
      "\n",
      "It’s one thing to order in food because you want to put on your comfy clothes and curl up on the couch. It’s another thing to get a note from one of the delivery apps saying you can now request not to even see your delivery person but to have your order left at the front door.\n",
      "\n",
      "It’s one thing to know you can choose the big world anytime, when you’re tired of the couch and of texting.\n",
      "\n",
      "Right now, of course, just a few days in, I want nothing more than to go out to eat with friends, to hug a neighbor, to hold a hand.\n",
      "\n",
      "I’m hoping we get to the other side of this without large-scale tragedy. There’s no way of knowing yet if we will.\n",
      "\n",
      "But if we do, I’m hoping that the experience of social distancing gives us pause and makes us realize how much we have missed company, not just the company of those we know and love but of strangers.\n",
      "\n",
      "We live in a world that can be scary, a world where people fire into crowds, where stock markets crash, where the gap between the haves and the have-nots keeps growing, along with the anger and division. But I’m hoping that if we get through this, we don’t let fear take over, that we come together again in full appreciation of how good that can feel.\n",
      "\n",
      "Just the other day, I watched people mingling en masse. I hope I’ll get to do so again before long. \n",
      "Prediction: joy \n",
      "\n",
      "If the disease is infectious enough even with a vaccine outbreaks can happen, just like the flu happens even though we make vaccines for it all the time.\n",
      "\n",
      "Basically it gets in enough people around the world and mutates around the world and you never get it eradicated. Though it's safe to say the world could try harder if the disease was higher risk. I think the biggest concern here is just that coronavirus have a lot of inherent traits that you really don't want in a human virus that also carries significant illness or lethality.\n",
      "\n",
      "It really does all work in the sense that one person can infect the entire planet and it's rarely the person's fault so much as you're looking at an impressive virus. \n",
      "\n",
      "Some of the other scary features of corona viruses in general MIGHT be: short-lived antibodies, less chance of cross strain resistance, capacity to jump between humans and animals, high mutation rate.  I think the whole class of RNA virus is just scary because it is super efficient and can mutate and recombine so it's just like really adaptable. Looking at modern medicine I guess we are having the most trouble with the RNA virus still. \n",
      "\n",
      "That's really why it was worth trying to mass quarantine and eradicate the virus as much as possible though I don't think we're going to hit that target. However we might contain and slow it down long enough to develop a solid variety of treatments against it and eventually a vaccine. It also reminds us mutate and go away or something like that. It COULD happen and we're talking about possibilities so it's always worth to mention it. \n",
      "\n",
      "The biggest threat, by far, is to the developing world, especially countries that have limited technology and industry. There's also a long-term cumulative threat like influenza presents where we can't get rid of it and even though we have a vaccine there's still tens of thousands or hundreds of thousands of people that die per year. Nobody wants a common cold that also acts like influenza on steroids. \n",
      "Prediction: disgust \n",
      "\n",
      "Fuck your \"appeal to authority\" bullshit.  If you have ANY integrity whatsoever, look at the actual data and then try to tell me that masks don't reduce the risk of infection:\n",
      "\n",
      "[National Institutes of Health](http://archive.is/5Vm12) - Home-made cloth masks reduce permeation even of tiny 0.02 µm–1 µm particles by 50%, with surgical masks reducing permeation by 75% even during real-world activities.  Considering that droplet transmission viruses (like the one causing COVID19) often require larger droplets than that, these masks could be even more effective against this particular virus.\n",
      "\n",
      "Quote:\n",
      "&gt; Any type of general mask use is likely to decrease viral exposure and infection risk on a population level, in spite of imperfect fit and imperfect adherence, personal respirators providing most protection.\n",
      "\n",
      "---\n",
      "\n",
      "[International Journal of Infectious Diseases](http://archive.is/1Mwcb) - This one shows surgical masks preventing the wearer from being infected when living with someone who has the flu.\n",
      "\n",
      "Quote:\n",
      "&gt; We found compliance to be low, but compliance is affected by perception of risk. In a pandemic, we would expect compliance to improve. In compliant users, masks were highly efficacious.\n",
      "\n",
      "---\n",
      "\n",
      "[Journal of the American Medical Association](http://archive.is/cvUQ7) - This study of 446 nurses in Ontario hospitals showed that n95 masks and surgical masks offered similar protection from viral infection for the wearer.\n",
      "\n",
      "Quote:\n",
      "&gt; Our data show that the incidence of laboratory-confirmed influenza was similar in nurses wearing the surgical mask and those wearing the N95 respirator. Surgical masks had an estimated efficacy within 1% of N95 respirators.\n",
      "\n",
      "---\n",
      "\n",
      "[National Institutes of Health](http://archive.is/GMOaG) - Surgical masks offer almost as effective filtration efficiency against simulated particles as n95 masks.\n",
      "\n",
      "Quote:\n",
      "&gt; The in-vivo filtration tests illustrated that N95 respirators filtered out 97% of potassium chloride (KCl) solution, while surgical masks filtered out 95% of KCl solution.\n",
      "\n",
      "---\n",
      "\n",
      "And for the coup de grâce, here's one published in [Emerging Infectious Diseases](http://archive.is/spCh6) (the journal of the CDC) with a juicy quote:\n",
      "\n",
      "&gt; We present the results of a prospective clinical trial of face mask use conducted in response to an urgent need to clarify the clinical benefit of using masks. The key findings are that &lt;50% of participants were adherent with mask use and that the intention-to-treat analysis showed no difference between arms. Although our study suggests that community use of face masks is unlikely to be an effective control policy for seasonal respiratory diseases, **adherent mask users had a significant reduction in the risk for clinical infection**. Another recent study that examined the use of surgical masks and handwashing for the prevention of influenza transmission also found no significant difference between the intervention arms (12).\n",
      "\n",
      "&gt; Our study found that only 21% of household contacts in the face mask arms reported wearing the mask often or always during the follow-up period. Adherence with treatments and preventive measures is well known to vary depending on perception of risk (27) and would be expected to increase during an influenza pandemic. During the height of the SARS epidemic of April and May 2003 in Hong Kong, adherence to infection control measures was high; 76% of the population wore a face mask, 65% washed their hands after relevant contact, and 78% covered their mouths when sneezing or coughing (28). In addition, adherence may vary depending on cultural context; Asian cultures are more accepting of mask use (29). Therefore, although we found that distributing masks during seasonal winter influenza outbreaks is an ineffective control measure characterized by low adherence, **results indicate the potential efficacy of masks in contexts where a larger adherence may be expected, such as during a severe influenza pandemic or other emerging infection.** \n",
      "Prediction: sadness \n",
      "\n"
     ]
    }
   ],
   "source": [
    "sequences_test = tokenizer.texts_to_sequences(text)\n",
    "data_int_t = pad_sequences(sequences_test, padding='pre', maxlen=(MAX_SEQUENCE_LENGTH-5))\n",
    "data_test = pad_sequences(data_int_t, padding='post', maxlen=(MAX_SEQUENCE_LENGTH))\n",
    "y_prob = model.predict(data_test)\n",
    "for n, prediction in enumerate(y_prob):\n",
    "    pred = y_prob.argmax(axis=-1)[n]\n",
    "    print(text[n],\"\\nPrediction:\",classes[pred],\"\\n\")"
   ]
  },
  {
   "cell_type": "code",
   "execution_count": 62,
   "metadata": {},
   "outputs": [
    {
     "data": {
      "text/plain": [
       "array([    7,   556,    52,   620,    12,  3317,    12,    17,    20,\n",
       "        6615,    50,  1371,   480,    11,     8,  6647,     8,   214,\n",
       "         161,    16,     3,  2918,  1904,  2712,  3251,     3,  4184,\n",
       "       19556,    13,   311,    83,  2712, 13007, 23997,   125,    97,\n",
       "         237,    20,   317,     7,    30,    89,   187,  1134,   172,\n",
       "         494,    27,    12,  4140,   222,    37,     8,   940,  3803,\n",
       "         245, 12823,  1200,     3,   270,    24,     3,  1308,   161,\n",
       "         158,   816,    86,   154,   227,  1134,   172,     3,   270,\n",
       "          24,    66,    30,   391,    13,    56,    13,   125,  2897,\n",
       "        1176,    83,   158,  3058,    50,     4,  1199,    11,  1804,\n",
       "        3582,    83,    28,     4,   747,   196,    66,    30,   592,\n",
       "          50,  2451,    15,     7,    30, 19143,     7,     9,     8,\n",
       "        2057,    25,  2573,  2389,   870,   157,    89,   139,     3,\n",
       "         297,   483,     1,    82,   343,   444,    29,    33,    25,\n",
       "        3988,     2,    12,   126,   426,    83,   126,  3845,  2415,\n",
       "           3,  2389,   870,   477,    50,   269,    98,  2451,    67,\n",
       "           7,    53,   469,    20,     1,    82,     7,   320,    25,\n",
       "         173,  3552,    30,    56,    13,     3,   109,  4125,    15,\n",
       "       15678,     3,   391,    83,   497,    30,  8869,     7,    11,\n",
       "       17952,  9180,     3,  1649,    13,  3552,    81,     7,    83,\n",
       "          19,   134, 15180,   653,    44,    27,   532,   131,    95,\n",
       "          50,     3,  1629,    13,  1071,     9,     3,   332,  1059,\n",
       "          13,    32,     3,  1629,    15,  1071,   101,     2,  1676,\n",
       "        1864,   797,  1514,  3900,   236,   391,  1446,   298,  1142,\n",
       "          73,    83,  1864,   797,  1514,  3900,   236,   391,  1446,\n",
       "         298,  1142,    73,    83,  1864,  1931,  6410,  3003,  8228,\n",
       "        2389,   870,  1864,  1931,  6410,  3003,  8228,  2389,   870,\n",
       "        1864,   797,  1071,   473,   391,   106,    30,     7,   460,\n",
       "           3,  2389,   870,  1864,   797,  1071,   473,   391,   106,\n",
       "          30,     7,   460,     3,  2389,   870,  1864,   797,   473,\n",
       "        1097,    15,   653,    44,    27,   532,   131,    95,    50,\n",
       "           3,  1629,  1864,   797,   473,  1097,    15,   653,    44,\n",
       "          27,   532,   131,    95,    50,     3,  1629])"
      ]
     },
     "execution_count": 62,
     "metadata": {},
     "output_type": "execute_result"
    }
   ],
   "source": [
    "np.array(sequences_test[0])"
   ]
  }
 ],
 "metadata": {
  "kernelspec": {
   "display_name": "Python 3",
   "language": "python",
   "name": "python3"
  },
  "language_info": {
   "codemirror_mode": {
    "name": "ipython",
    "version": 3
   },
   "file_extension": ".py",
   "mimetype": "text/x-python",
   "name": "python",
   "nbconvert_exporter": "python",
   "pygments_lexer": "ipython3",
   "version": "3.7.6"
  }
 },
 "nbformat": 4,
 "nbformat_minor": 2
}
